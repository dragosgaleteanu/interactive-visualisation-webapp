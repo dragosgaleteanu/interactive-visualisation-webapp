import bokeh.plotting, bokeh.models, pandas as pd, bokeh.palettes, bokeh.transform
from bokeh.plotting import figure, output_file, show
from bokeh.models import ColorBar, ColumnDataSource, HoverTool
from bokeh.transform import factor_cmap
from bokeh.palettes import Spectral6 

output_file('barchart_sentiment_dbl.html')

df = pd.read_csv('enron-v1.csv')

fromIdsNr = df.fromId.unique()
fromIdsNr.sort()

fromIds = []

for value in fromIdsNr:
    fromIds.append(str(value))

sentiments = []
sentiments_length = []

for x in range(1, 150):
    sentiments.append(0);
for x in range(1, 150):
    sentiments_length.append(1);

for i, row in df.iterrows():
    ++sentiments_length[row['fromId']-1]
    sentiments[row['fromId']-1] += row['sentiment']

for x in range(1, 150):
    sentiments[x-1] = str(sentiments[x-1] / sentiments_length[x-1])

print(fromIds)
print(sentiments)

p = figure(x_range=fromIds, plot_height=250, plot_width=2800, title="Barchart with average sentiment per sender", toolbar_location=None, tools="")
p.vbar(x=fromIds, top=sentiments, width=0.9, line_color='black', fill_color='orangered')

p.xgrid.grid_line_color = None
p.y_range.start = -4

hover = HoverTool()
hover.tooltips = [
    ('Sender ID', '@x'),
    ('Average sentiment', '@top')
]

p.add_tools(hover)

show(p)